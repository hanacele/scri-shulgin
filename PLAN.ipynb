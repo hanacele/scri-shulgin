{
 "cells": [
  {
   "cell_type": "markdown",
   "metadata": {},
   "source": [
    "-UMAP with affinity propogation clustering for entire tanimoto matrix \n",
    "-colorblind friendly\n",
    "-color scale based on how close together they are???\n",
    "-tell ChatGPT to plot the chemical structures based on smiles onto your UMAP so you can see the correlations between structure and positioning\n",
    "\n",
    "questions to ask chatgpt:\n",
    "-how do i make a umap with affinity propagation clustering with a csv file with tanimoto similarity coefficients \n",
    "-how to plot 234 smiles structures csv onto a umap to see correlation between chemical structures (and can i have color scale ranging from most similar structure-wise to the least similar structure-wise?)\n"
   ]
  }
 ],
 "metadata": {
  "language_info": {
   "name": "python"
  }
 },
 "nbformat": 4,
 "nbformat_minor": 2
}
